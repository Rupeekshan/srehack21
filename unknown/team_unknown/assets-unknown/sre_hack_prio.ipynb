{
  "nbformat": 4,
  "nbformat_minor": 0,
  "metadata": {
    "colab": {
      "name": "sre hack-prio.ipynb",
      "provenance": [],
      "collapsed_sections": []
    },
    "kernelspec": {
      "name": "python3",
      "display_name": "Python 3"
    },
    "language_info": {
      "name": "python"
    }
  },
  "cells": [
    {
      "cell_type": "code",
      "metadata": {
        "id": "FbJONsM4FIhL"
      },
      "source": [
        "import pickle\n",
        "from sklearn.naive_bayes import MultinomialNB\n",
        "import pandas as pd\n",
        "from sklearn.model_selection import train_test_split\n",
        "import joblib\n",
        "from sklearn.feature_extraction.text import CountVectorizer"
      ],
      "execution_count": 31,
      "outputs": []
    },
    {
      "cell_type": "code",
      "metadata": {
        "id": "ssUycKgWFxl_"
      },
      "source": [
        "data = pd.read_csv('tickets.csv')"
      ],
      "execution_count": 32,
      "outputs": []
    },
    {
      "cell_type": "code",
      "metadata": {
        "colab": {
          "base_uri": "https://localhost:8080/",
          "height": 200
        },
        "id": "m22UJ82zGBbt",
        "outputId": "3ac47915-4aa6-4e7b-a8a4-16f8ff55fad4"
      },
      "source": [
        "data.head()"
      ],
      "execution_count": 33,
      "outputs": [
        {
          "output_type": "execute_result",
          "data": {
            "text/html": [
              "<div>\n",
              "<style scoped>\n",
              "    .dataframe tbody tr th:only-of-type {\n",
              "        vertical-align: middle;\n",
              "    }\n",
              "\n",
              "    .dataframe tbody tr th {\n",
              "        vertical-align: top;\n",
              "    }\n",
              "\n",
              "    .dataframe thead th {\n",
              "        text-align: right;\n",
              "    }\n",
              "</style>\n",
              "<table border=\"1\" class=\"dataframe\">\n",
              "  <thead>\n",
              "    <tr style=\"text-align: right;\">\n",
              "      <th></th>\n",
              "      <th>content</th>\n",
              "      <th>category</th>\n",
              "      <th>priority</th>\n",
              "    </tr>\n",
              "  </thead>\n",
              "  <tbody>\n",
              "    <tr>\n",
              "      <th>0</th>\n",
              "      <td>Sample App server not responding to ssh Hi Tea...</td>\n",
              "      <td>0</td>\n",
              "      <td>3</td>\n",
              "    </tr>\n",
              "    <tr>\n",
              "      <th>1</th>\n",
              "      <td>Im planning to take a leave for travelling. Hi...</td>\n",
              "      <td>1</td>\n",
              "      <td>2</td>\n",
              "    </tr>\n",
              "    <tr>\n",
              "      <th>2</th>\n",
              "      <td>Additional keyboard to be allocated for devid....</td>\n",
              "      <td>1</td>\n",
              "      <td>2</td>\n",
              "    </tr>\n",
              "    <tr>\n",
              "      <th>3</th>\n",
              "      <td>SSL certificate will expire soon. The SSL cert...</td>\n",
              "      <td>1</td>\n",
              "      <td>1</td>\n",
              "    </tr>\n",
              "    <tr>\n",
              "      <th>4</th>\n",
              "      <td>Bike service report of last week. I need the s...</td>\n",
              "      <td>1</td>\n",
              "      <td>3</td>\n",
              "    </tr>\n",
              "  </tbody>\n",
              "</table>\n",
              "</div>"
            ],
            "text/plain": [
              "                                             content  category  priority\n",
              "0  Sample App server not responding to ssh Hi Tea...         0         3\n",
              "1  Im planning to take a leave for travelling. Hi...         1         2\n",
              "2  Additional keyboard to be allocated for devid....         1         2\n",
              "3  SSL certificate will expire soon. The SSL cert...         1         1\n",
              "4  Bike service report of last week. I need the s...         1         3"
            ]
          },
          "metadata": {},
          "execution_count": 33
        }
      ]
    },
    {
      "cell_type": "code",
      "metadata": {
        "id": "utqnD8rsGIEs"
      },
      "source": [
        "def preprocess_data(data):\n",
        "    data = data.drop('category', axis=1)\n",
        "    # data=data[:5]\n",
        "    # changing content to lower case and removing extra spaces\n",
        "    data['content'] = data['content'].str.strip().str.lower()\n",
        "    return data"
      ],
      "execution_count": 34,
      "outputs": []
    },
    {
      "cell_type": "code",
      "metadata": {
        "id": "SaeU66BMGLhg"
      },
      "source": [
        "data = preprocess_data(data)"
      ],
      "execution_count": 35,
      "outputs": []
    },
    {
      "cell_type": "code",
      "metadata": {
        "id": "EUj2YJKvGp7q"
      },
      "source": [
        "x = data['content']\n",
        "y = data['priority']"
      ],
      "execution_count": 36,
      "outputs": []
    },
    {
      "cell_type": "code",
      "metadata": {
        "id": "ajf5Q_kxHOqd"
      },
      "source": [
        "vec = CountVectorizer(stop_words='english')\n",
        "x = vec.fit_transform(x).toarray()"
      ],
      "execution_count": 37,
      "outputs": []
    },
    {
      "cell_type": "code",
      "metadata": {
        "colab": {
          "base_uri": "https://localhost:8080/"
        },
        "id": "h0Hy-kzJHSNc",
        "outputId": "2ae923f3-c2a6-478f-cbed-883308bb6102"
      },
      "source": [
        "model = MultinomialNB()\n",
        "model.fit(x, y)"
      ],
      "execution_count": 38,
      "outputs": [
        {
          "output_type": "execute_result",
          "data": {
            "text/plain": [
              "MultinomialNB()"
            ]
          },
          "metadata": {},
          "execution_count": 38
        }
      ]
    },
    {
      "cell_type": "code",
      "metadata": {
        "id": "tmY40tiwIS6H"
      },
      "source": [
        "priority = model.predict(vec.transform(['please do this asap']))[0]"
      ],
      "execution_count": 39,
      "outputs": []
    },
    {
      "cell_type": "code",
      "metadata": {
        "colab": {
          "base_uri": "https://localhost:8080/"
        },
        "id": "bQNM2ZsCK-FU",
        "outputId": "4a3e6a3a-5be2-430e-d875-76c44426df56"
      },
      "source": [
        "priority"
      ],
      "execution_count": 40,
      "outputs": [
        {
          "output_type": "execute_result",
          "data": {
            "text/plain": [
              "3"
            ]
          },
          "metadata": {},
          "execution_count": 40
        }
      ]
    },
    {
      "cell_type": "code",
      "metadata": {
        "id": "q6ZbNfn8LOt1"
      },
      "source": [
        "import pickle\n",
        "f = open('model.pickle', 'wb')\n",
        "pickle.dump(model, f)\n",
        "f.close()"
      ],
      "execution_count": 41,
      "outputs": []
    },
    {
      "cell_type": "code",
      "metadata": {
        "id": "nDvPLsTCONGk"
      },
      "source": [
        "import pickle\n",
        "f = open('model.pickle', 'rb')\n",
        "model2 = pickle.load(f)\n",
        "f.close()"
      ],
      "execution_count": 42,
      "outputs": []
    },
    {
      "cell_type": "code",
      "metadata": {
        "colab": {
          "base_uri": "https://localhost:8080/"
        },
        "id": "U-LGwSFSOrgR",
        "outputId": "debee3fa-b111-4e8e-a1cd-573152c6c85f"
      },
      "source": [
        "model2.predict(vec.transform(['please do this asap']))[0]"
      ],
      "execution_count": 43,
      "outputs": [
        {
          "output_type": "execute_result",
          "data": {
            "text/plain": [
              "3"
            ]
          },
          "metadata": {},
          "execution_count": 43
        }
      ]
    },
    {
      "cell_type": "code",
      "metadata": {
        "id": "rbBsi5zvOwgl"
      },
      "source": [
        ""
      ],
      "execution_count": null,
      "outputs": []
    }
  ]
}